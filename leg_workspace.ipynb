{
 "cells": [
  {
   "cell_type": "code",
   "execution_count": 1,
   "id": "4eb55f5f",
   "metadata": {},
   "outputs": [],
   "source": [
    "import time\n",
    "import warnings\n",
    "from multiprocessing import Pool\n",
    "from pathlib import Path\n",
    "from typing import Optional\n",
    "from pathlib import Path\n",
    "from typing import Mapping, Collection, Literal\n",
    "\n",
    "from dustgoggles.mosaic import parquet_metadata_records, meta_record_df, meta_column_df\n",
    "import matplotlib.pyplot as plt\n",
    "import matplotlib as mpl\n",
    "from marslab.imgops.imgutils import std_clip\n",
    "from more_itertools import windowed\n",
    "import numpy as np\n",
    "import pandas as pd\n",
    "import pyarrow\n",
    "from pyarrow import parquet\n",
    "from pympler.asizeof import asizeof\n",
    "\n",
    "from gPhoton.aspect import aspect_tables\n",
    "from gPhoton.aspect import load_aspect_solution\n",
    "from gPhoton.calibrate import find_fuv_offset\n",
    "from gPhoton.coords.gnomonic import gnomfwd_simple\n",
    "\n",
    "from gPhoton.io.mast import retrieve_raw6\n",
    "from gPhoton.io.raw6 import load_raw6, get_eclipse_from_header\n",
    "from gPhoton.photonpipe._steps import (\n",
    "    create_ssd_from_decoded_data,\n",
    "    perform_yac_correction,\n",
    "    load_cal_data,\n",
    "    process_chunk_in_shared_memory,\n",
    "    chunk_data,\n",
    "    process_chunk_in_unshared_memory,\n",
    ")\n",
    "from gPhoton.parquet_utils import parquet_to_ndarrays\n",
    "from gPhoton.pretty import print_inline\n",
    "from gPhoton.search.core import filter_galex_eclipses\n",
    "from gPhoton.sharing import (\n",
    "    unlink_nested_block_dict,\n",
    "    slice_into_shared_chunks,\n",
    "    send_mapping_to_shared_memory,\n",
    "    get_column_from_shared_memory,\n",
    ")\n",
    "from gPhoton.reference import eclipse_to_paths\n",
    "from gPhoton.types import GalexBand, Pathlike\n",
    "\n",
    "%matplotlib qt\n",
    "mpl.rcParams['font.size'] = 24\n",
    "mpl.rcParams['image.cmap'] = 'Greys_r'"
   ]
  },
  {
   "cell_type": "code",
   "execution_count": 2,
   "id": "ff86dd4b",
   "metadata": {},
   "outputs": [],
   "source": [
    "ais_eclipses = filter_galex_eclipses(filters=[(\"obstype\", \"=\", \"AIS\")])\n",
    "# examples = (15943, 45845)\n",
    "eclipse, band = 15943, \"NUV\"\n",
    "paths = eclipse_to_paths(eclipse, data_directory=\"test_data\")[band]"
   ]
  },
  {
   "cell_type": "code",
   "execution_count": null,
   "id": "cf6c3644",
   "metadata": {},
   "outputs": [],
   "source": [
    "share_memory = False\n",
    "threads = None\n",
    "verbose = 3\n",
    "raw6file = paths['raw6']\n",
    "eclipse = get_eclipse_from_header(raw6file, eclipse)\n",
    "if band == \"FUV\":\n",
    "    xoffset, yoffset = find_fuv_offset(eclipse)\n",
    "else:\n",
    "    xoffset, yoffset = 0.0, 0.0\n",
    "aspect = load_aspect_solution(eclipse, verbose)\n",
    "data, nphots = load_raw6(raw6file, verbose)"
   ]
  },
  {
   "cell_type": "code",
   "execution_count": null,
   "id": "b5119aea",
   "metadata": {},
   "outputs": [],
   "source": [
    "np.nonzero(data['t'][start:] <= times.iloc[-1])"
   ]
  },
  {
   "cell_type": "code",
   "execution_count": null,
   "id": "a457b78c",
   "metadata": {},
   "outputs": [],
   "source": [
    "len(data['t'])"
   ]
  },
  {
   "cell_type": "code",
   "execution_count": null,
   "id": "3b7ede38",
   "metadata": {},
   "outputs": [],
   "source": [
    "data['t'] >= leg['time'].iloc[0]"
   ]
  },
  {
   "cell_type": "code",
   "execution_count": null,
   "id": "3a663e15",
   "metadata": {},
   "outputs": [],
   "source": [
    "np.nonzero(data['t'] <= times.iloc[-1])[0][-1]"
   ]
  },
  {
   "cell_type": "code",
   "execution_count": null,
   "id": "bde1d196",
   "metadata": {},
   "outputs": [],
   "source": [
    "from gPhoton.reference import eclipse_to_paths"
   ]
  },
  {
   "cell_type": "code",
   "execution_count": null,
   "id": "baebe6a1",
   "metadata": {},
   "outputs": [],
   "source": [
    "plt.subplot_mosaic?"
   ]
  },
  {
   "cell_type": "code",
   "execution_count": null,
   "id": "61874ee7",
   "metadata": {},
   "outputs": [],
   "source": [
    "plt.subplot_mosaic?"
   ]
  },
  {
   "cell_type": "code",
   "execution_count": null,
   "id": "a0a88cab",
   "metadata": {},
   "outputs": [],
   "source": [
    "plt.subplots?"
   ]
  },
  {
   "cell_type": "code",
   "execution_count": null,
   "id": "875a0ead",
   "metadata": {},
   "outputs": [],
   "source": []
  },
  {
   "cell_type": "code",
   "execution_count": null,
   "id": "4c8a0f0d",
   "metadata": {},
   "outputs": [],
   "source": [
    "from fitsio.fitslib import FITS"
   ]
  },
  {
   "cell_type": "code",
   "execution_count": null,
   "id": "6368f373",
   "metadata": {},
   "outputs": [],
   "source": [
    "import fitsio"
   ]
  },
  {
   "cell_type": "code",
   "execution_count": null,
   "id": "a20c68d6",
   "metadata": {},
   "outputs": [],
   "source": [
    "fitsio.FITS.o"
   ]
  },
  {
   "cell_type": "code",
   "execution_count": null,
   "id": "dcbde4c6",
   "metadata": {},
   "outputs": [],
   "source": [
    "from marslab.imgops.pltutils import strip_axes"
   ]
  },
  {
   "cell_type": "code",
   "execution_count": 6,
   "id": "53fd83ca",
   "metadata": {},
   "outputs": [],
   "source": [
    "from fitsio import FITS\n"
   ]
  },
  {
   "cell_type": "code",
   "execution_count": null,
   "id": "70f329f9",
   "metadata": {},
   "outputs": [],
   "source": [
    "plt.ion()"
   ]
  },
  {
   "cell_type": "code",
   "execution_count": 3,
   "id": "62c27244",
   "metadata": {},
   "outputs": [],
   "source": [
    "image_files = eclipse_to_paths(\n",
    "    15943, compression='rice', data_directory='test_data'\n",
    ")[\"NUV\"]['images']\n",
    "fig, grid = plt.subplots(3, 4)\n",
    "# for ix, image_file in enumerate(image_files):\n",
    "#     cnt = FITS(image_file)[1].read()\n",
    "#     ax = grid[ix % 3][ix % 4]\n",
    "#     ax.imshow(std_clip(cnt))\n",
    "#     strip_axes(ax)\n",
    "# fig.show()\n"
   ]
  },
  {
   "cell_type": "code",
   "execution_count": 17,
   "id": "964cc4c6",
   "metadata": {},
   "outputs": [
    {
     "data": {
      "text/plain": [
       "<matplotlib.image.AxesImage at 0x7f37719b38b0>"
      ]
     },
     "execution_count": 17,
     "metadata": {},
     "output_type": "execute_result"
    }
   ],
   "source": [
    "cnt = FITS(image_files[8])[1].read()\n",
    "plt.imshow(std_clip(cnt))"
   ]
  },
  {
   "cell_type": "code",
   "execution_count": 10,
   "id": "ab0183c4",
   "metadata": {},
   "outputs": [
    {
     "data": {
      "text/plain": [
       "<matplotlib.image.AxesImage at 0x7f3787fe17b0>"
      ]
     },
     "execution_count": 10,
     "metadata": {},
     "output_type": "execute_result"
    }
   ],
   "source": []
  },
  {
   "cell_type": "code",
   "execution_count": null,
   "id": "42b1391c",
   "metadata": {},
   "outputs": [],
   "source": [
    "plt.imshow(std_clip(cnt))"
   ]
  },
  {
   "cell_type": "code",
   "execution_count": null,
   "id": "32caf0f5",
   "metadata": {},
   "outputs": [],
   "source": [
    "fig.tight_layout()"
   ]
  },
  {
   "cell_type": "code",
   "execution_count": null,
   "id": "56b1e94b",
   "metadata": {},
   "outputs": [],
   "source": [
    "a = {\n",
    "    (0, 1): 1,\n",
    "    (0, 2): 2,\n",
    "    (1, 0): 1,\n",
    "    (1, 1): 2\n",
    "}    "
   ]
  },
  {
   "cell_type": "code",
   "execution_count": null,
   "id": "7a7a3fc7",
   "metadata": {},
   "outputs": [],
   "source": [
    "b = {\n",
    "    address: a.pop(address)\n",
    "    for address in a.keys()\n",
    "    if address[0] == 0\n",
    "}"
   ]
  },
  {
   "cell_type": "code",
   "execution_count": null,
   "id": "b0d014b5",
   "metadata": {},
   "outputs": [],
   "source": []
  },
  {
   "cell_type": "code",
   "execution_count": null,
   "id": "f40eeca3",
   "metadata": {},
   "outputs": [],
   "source": []
  },
  {
   "cell_type": "code",
   "execution_count": null,
   "id": "f81b0995",
   "metadata": {},
   "outputs": [],
   "source": []
  },
  {
   "cell_type": "code",
   "execution_count": null,
   "id": "4c76a29a",
   "metadata": {},
   "outputs": [],
   "source": []
  },
  {
   "cell_type": "code",
   "execution_count": null,
   "id": "e4a45ef2",
   "metadata": {},
   "outputs": [],
   "source": []
  },
  {
   "cell_type": "code",
   "execution_count": null,
   "id": "52d44cef",
   "metadata": {},
   "outputs": [],
   "source": []
  },
  {
   "cell_type": "code",
   "execution_count": null,
   "id": "84713c15",
   "metadata": {},
   "outputs": [],
   "source": [
    "raw6_tab = pyarrow.Table.from_arrays(\n",
    "    tuple(data.values()), names=tuple(data.keys())\n",
    ")"
   ]
  },
  {
   "cell_type": "code",
   "execution_count": null,
   "id": "e9179586",
   "metadata": {},
   "outputs": [],
   "source": [
    "splits = [\n",
    "    0, \n",
    "    *np.nonzero(np.diff(aspect['time']) > 10)[0], \n",
    "    len(aspect['time'])\n",
    "]\n",
    "partitions = list(windowed(splits, 2))\n",
    "asp_df = pd.DataFrame(aspect)\n",
    "legs = [\n",
    "    asp_df.iloc[p[0] + 1:p[1] + 1] for p in partitions\n",
    "]"
   ]
  },
  {
   "cell_type": "code",
   "execution_count": null,
   "id": "031fe737",
   "metadata": {},
   "outputs": [],
   "source": [
    "len(aspect['eclipse'])"
   ]
  },
  {
   "cell_type": "code",
   "execution_count": null,
   "id": "eebc0f30",
   "metadata": {},
   "outputs": [],
   "source": [
    "aspect = parquet.read_table(\n",
    "    '/home/michael/Desktop/gphoton_working/gPhoton/aspect/aspect.parquet',\n",
    "    filters=[('eclipse', '=', eclipse)]\n",
    ").to_pandas()\n",
    "partitions = [(-1, partitions[0][0]), *partitions, (partitions[-1][1], -2)]\n"
   ]
  },
  {
   "cell_type": "code",
   "execution_count": null,
   "id": "33b13c8b",
   "metadata": {},
   "outputs": [],
   "source": [
    "parquet.write_table(\n",
    "    raw6_tab, \n",
    "    \"unpacked_raw6.parquet\", \n",
    "    use_dictionary=[\"t\", \"xb\", \"xamc\", \"yb\", \"yamc\", \"q\", \"xa\", \"ya\", \"x\", \"y\"]\n",
    ")"
   ]
  },
  {
   "cell_type": "code",
   "execution_count": null,
   "id": "1c0c25ec",
   "metadata": {},
   "outputs": [],
   "source": [
    "meta_column_df('unpacked_raw6.parquet')"
   ]
  },
  {
   "cell_type": "code",
   "execution_count": null,
   "id": "d0a4fd69",
   "metadata": {},
   "outputs": [],
   "source": [
    "import fitsio"
   ]
  },
  {
   "cell_type": "code",
   "execution_count": null,
   "id": "ace66096",
   "metadata": {},
   "outputs": [],
   "source": [
    "hdul = fitsio.FITS(\"/home/michael/Desktop/gphoton_working/test_data/e23456/e23456-nd-full-0-rice.fits\")"
   ]
  },
  {
   "cell_type": "code",
   "execution_count": null,
   "id": "6995c805",
   "metadata": {},
   "outputs": [],
   "source": [
    "hdul_2 = fitsio.FITS(\"/home/michael/Desktop/gphoton_working/test_data/e23456/e23456-nd-full-rice.fits\")"
   ]
  },
  {
   "cell_type": "code",
   "execution_count": null,
   "id": "4c788649",
   "metadata": {},
   "outputs": [],
   "source": [
    "cntnew = hdul[1].read()\n",
    "cntold = hdul_2[1].read()"
   ]
  },
  {
   "cell_type": "code",
   "execution_count": null,
   "id": "184ef97b",
   "metadata": {},
   "outputs": [],
   "source": [
    "import numpy as np\n",
    "np.nanmax(np.abs(cntnew - cntold))"
   ]
  },
  {
   "cell_type": "code",
   "execution_count": null,
   "id": "18dd6d41",
   "metadata": {},
   "outputs": [],
   "source": [
    "import matplotlib.pyplot as plt\n",
    "from marslab.imgops.imgutils import std_clip\n",
    "%matplotlib qt"
   ]
  },
  {
   "cell_type": "code",
   "execution_count": null,
   "id": "ba5007a0",
   "metadata": {},
   "outputs": [],
   "source": [
    "plt.figure()\n",
    "plt.imshow(np.abs(cntnew - cntold))\n",
    "plt.colorbar()"
   ]
  },
  {
   "cell_type": "code",
   "execution_count": null,
   "id": "29fccea6",
   "metadata": {},
   "outputs": [],
   "source": [
    "meta_column_df('/home/michael/Desktop/gphoton_working/test_data/e23456/e23456-nd-0.parquet').T"
   ]
  },
  {
   "cell_type": "code",
   "execution_count": null,
   "id": "c87115cf",
   "metadata": {},
   "outputs": [],
   "source": [
    "meta_column_df('/home/michael/Desktop/gphoton_working/test_data/e23456/e23456-nd.parquet').T"
   ]
  },
  {
   "cell_type": "code",
   "execution_count": null,
   "id": "625cdc35",
   "metadata": {},
   "outputs": [],
   "source": [
    "from pyarrow import parquet\n",
    "tab_new = parquet.read_table(\n",
    "    '/home/michael/Desktop/gphoton_working/test_data/e23456/e23456-nd-0.parquet'\n",
    ").to_pandas()"
   ]
  },
  {
   "cell_type": "code",
   "execution_count": null,
   "id": "13775789",
   "metadata": {},
   "outputs": [],
   "source": [
    "tab_old = parquet.read_table(\n",
    "    '/home/michael/Desktop/gphoton_working/test_data/e23456/e23456-nd-0 (copy).parquet'\n",
    ").to_pandas()"
   ]
  },
  {
   "cell_type": "code",
   "execution_count": null,
   "id": "5cbc3256",
   "metadata": {},
   "outputs": [],
   "source": [
    "plt.plot(tab_new['eta'] - tab_old['eta'])"
   ]
  },
  {
   "cell_type": "code",
   "execution_count": null,
   "id": "6754aa48",
   "metadata": {},
   "outputs": [],
   "source": [
    "(tab_new['eta'] - tab_old['eta']).argmax()"
   ]
  },
  {
   "cell_type": "code",
   "execution_count": null,
   "id": "dd162d96",
   "metadata": {},
   "outputs": [],
   "source": [
    "cut_new = tab_new.loc[34945920:34945925]"
   ]
  },
  {
   "cell_type": "code",
   "execution_count": null,
   "id": "99e000ee",
   "metadata": {},
   "outputs": [],
   "source": [
    "cut_old = tab_old.loc[34945920:34945925]"
   ]
  },
  {
   "cell_type": "code",
   "execution_count": null,
   "id": "9e522e8e",
   "metadata": {},
   "outputs": [],
   "source": [
    "\n",
    "cut_new"
   ]
  },
  {
   "cell_type": "code",
   "execution_count": null,
   "id": "68f3af8e",
   "metadata": {},
   "outputs": [],
   "source": [
    "cut_old.dtypes"
   ]
  },
  {
   "cell_type": "code",
   "execution_count": null,
   "id": "4ddbfcb5",
   "metadata": {},
   "outputs": [],
   "source": [
    "cut_new.loc[34945923]['t']"
   ]
  },
  {
   "cell_type": "code",
   "execution_count": null,
   "id": "35c8c4db",
   "metadata": {},
   "outputs": [],
   "source": [
    "cut_old.loc[34945923]['t']"
   ]
  },
  {
   "cell_type": "code",
   "execution_count": null,
   "id": "0472d4e9",
   "metadata": {},
   "outputs": [],
   "source": [
    "tab_new.loc[tab_new['flags'] == 12]"
   ]
  },
  {
   "cell_type": "code",
   "execution_count": null,
   "id": "79792b42",
   "metadata": {},
   "outputs": [],
   "source": [
    "tab_old.loc[tab_old['flags'] == 12]"
   ]
  },
  {
   "cell_type": "code",
   "execution_count": null,
   "id": "0b02f002",
   "metadata": {},
   "outputs": [],
   "source": [
    "cols = cut_new.dtypes.loc[cut_new.dtypes != bool]"
   ]
  },
  {
   "cell_type": "code",
   "execution_count": null,
   "id": "4bdf13fd",
   "metadata": {},
   "outputs": [],
   "source": [
    "diff = cut_old[cols.index] - cut_new[cols.index]"
   ]
  },
  {
   "cell_type": "code",
   "execution_count": null,
   "id": "433d780c",
   "metadata": {},
   "outputs": [],
   "source": [
    "import gPhoton.constants as c"
   ]
  },
  {
   "cell_type": "code",
   "execution_count": null,
   "id": "250e630a",
   "metadata": {},
   "outputs": [],
   "source": [
    "tab2.loc[(tab2['response'] - tab['response']).abs() > 0.1]"
   ]
  },
  {
   "cell_type": "code",
   "execution_count": null,
   "id": "cf20ec8c",
   "metadata": {},
   "outputs": [],
   "source": [
    "tab.loc[(tab2['ra'] - tab['ra']).abs() > 0.0001]"
   ]
  },
  {
   "cell_type": "code",
   "execution_count": null,
   "id": "1cef12e2",
   "metadata": {},
   "outputs": [],
   "source": [
    "(tab2['detrad'] - tab['detrad']).abs().argmax()"
   ]
  },
  {
   "cell_type": "code",
   "execution_count": null,
   "id": "8b33948d",
   "metadata": {},
   "outputs": [],
   "source": [
    "(tab_new[\"ya\"] - tab_old[\"ya\"]).abs().max()"
   ]
  },
  {
   "cell_type": "code",
   "execution_count": null,
   "id": "aa37d290",
   "metadata": {},
   "outputs": [],
   "source": [
    "import pandas as pd"
   ]
  },
  {
   "cell_type": "code",
   "execution_count": null,
   "id": "03b68a15",
   "metadata": {},
   "outputs": [],
   "source": [
    "t = pd.read_csv(\n",
    "    '/home/michael/Desktop/gphoton_working/test_data/e23456/e23456-nd-full-0-photom-12_8.csv'\n",
    ")"
   ]
  },
  {
   "cell_type": "code",
   "execution_count": null,
   "id": "2b04c647",
   "metadata": {},
   "outputs": [],
   "source": [
    "a = pd.read_csv(\n",
    "    '/home/michael/Desktop/gphoton_working/test_data/e23456/e23456-nd-full-photom-12_8.csv'\n",
    ")"
   ]
  },
  {
   "cell_type": "code",
   "execution_count": null,
   "id": "4f78a411",
   "metadata": {},
   "outputs": [],
   "source": [
    "def coregister_sources(xy0, xy1):\n",
    "    matches = []\n",
    "    for source_ix in range(xy0.shape[0]):\n",
    "        vec = xy0[source_ix]\n",
    "        vec = np.expand_dims(vec, 1).T\n",
    "        offsets = np.linalg.norm(xy1 - vec, axis=1)\n",
    "        matches.append(offsets.argmin())\n",
    "    sort_xy1 = xy1[matches]\n",
    "    return np.linalg.norm(sort_xy1 - xy0, axis=1)\n",
    "\n",
    "\n",
    "def check_coregistration(ref, comp, threshold=1):\n",
    "    c_cols = ['xcentroid', 'ycentroid']\n",
    "    ref_xy = ref[c_cols].to_numpy()\n",
    "    comp_xy = comp[c_cols].to_numpy()\n",
    "    ref_offsets = coregister_sources(ref_xy, comp_xy)\n",
    "    comp_offsets = coregister_sources(comp_xy, ref_xy)\n",
    "    return (\n",
    "        ref_offsets > threshold, comp_offsets > threshold\n",
    "    )"
   ]
  },
  {
   "cell_type": "code",
   "execution_count": null,
   "id": "de25bcd4",
   "metadata": {},
   "outputs": [],
   "source": []
  },
  {
   "cell_type": "code",
   "execution_count": null,
   "id": "93db6869",
   "metadata": {},
   "outputs": [],
   "source": [
    "from gPhoton.pipeline import execute_pipeline\n",
    "\n",
    "if __name__ == \"__main__\":\n",
    "    execute_pipeline(\n",
    "        23456,\n",
    "        \"NUV\",\n",
    "        depth=None,\n",
    "        threads=4,\n",
    "        local_root=\"test_data\",\n",
    "        recreate=True,\n",
    "        aperture_sizes=[12.8],\n",
    "        write={\"movie\": True, \"image\": True},\n",
    "        coregister_lightcurves=True,\n",
    "        # stop_after=\"moviemaker\",\n",
    "        compression=\"rice\",\n",
    "        lil=True\n",
    "    )\n"
   ]
  },
  {
   "cell_type": "code",
   "execution_count": null,
   "id": "7a16c5f4",
   "metadata": {},
   "outputs": [],
   "source": [
    "def coregister_sources_2(xy0, xy1):\n",
    "    matches = []\n",
    "    for source_ix in range(xy0.shape[0]):\n",
    "        vec = xy0[source_ix]\n",
    "        vec = np.expand_dims(vec, 1).T\n",
    "        offsets = np.linalg.norm(xy1 - vec, axis=1)\n",
    "        matches.append(offsets.argmin())\n",
    "    sort_xy1 = xy1[matches]\n",
    "    return matches, np.linalg.norm(sort_xy1 - xy0, axis=1)"
   ]
  },
  {
   "cell_type": "code",
   "execution_count": null,
   "id": "99cd744d",
   "metadata": {
    "scrolled": false
   },
   "outputs": [],
   "source": [
    "matches_t, offsets_t = coregister_sources_2(\n",
    "    a[['xcentroid', 'ycentroid']].to_numpy(), t[['xcentroid', 'ycentroid']].to_numpy()\n",
    ")\n",
    "matches_a, offsets_a = coregister_sources_2(\n",
    "    t[['xcentroid', 'ycentroid']].to_numpy(), a[['xcentroid', 'ycentroid']].to_numpy()\n",
    ")"
   ]
  },
  {
   "cell_type": "code",
   "execution_count": null,
   "id": "627e2865",
   "metadata": {},
   "outputs": [],
   "source": [
    "mismatch_t = np.nonzero(offsets_t > 0.5)[0]\n",
    "matchy_t = [m for ix, m in enumerate(matches_t) if ix not in mismatch_t]\n",
    "mismatch_a = np.nonzero(offsets_a > 0.5)[0]\n",
    "matchy_a = [m for ix, m in enumerate(matches_a) if ix not in mismatch_a]"
   ]
  },
  {
   "cell_type": "code",
   "execution_count": null,
   "id": "f0197db2",
   "metadata": {},
   "outputs": [],
   "source": [
    "a = a.drop(mismatch_t).loc[matchy_a].reset_index(drop=True)\n",
    "t = t.drop(mismatch_a).reset_index(drop=True)"
   ]
  },
  {
   "cell_type": "code",
   "execution_count": null,
   "id": "b9cd056d",
   "metadata": {},
   "outputs": [],
   "source": [
    "plt.plot(a['aperture_sum'] / t['aperture_sum'])"
   ]
  },
  {
   "cell_type": "code",
   "execution_count": null,
   "id": "c9d753ef",
   "metadata": {},
   "outputs": [],
   "source": [
    "plt.plot(a['ycentroid'] - t['ycentroid'])"
   ]
  },
  {
   "cell_type": "code",
   "execution_count": null,
   "id": "5f68a4c0",
   "metadata": {},
   "outputs": [],
   "source": [
    "t.loc[np.isinf(t['aperture_sum'])]"
   ]
  }
 ],
 "metadata": {
  "kernelspec": {
   "display_name": "Python 3 (ipykernel)",
   "language": "python",
   "name": "python3"
  },
  "language_info": {
   "codemirror_mode": {
    "name": "ipython",
    "version": 3
   },
   "file_extension": ".py",
   "mimetype": "text/x-python",
   "name": "python",
   "nbconvert_exporter": "python",
   "pygments_lexer": "ipython3",
   "version": "3.10.6"
  }
 },
 "nbformat": 4,
 "nbformat_minor": 5
}
