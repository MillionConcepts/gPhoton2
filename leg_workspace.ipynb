{
 "cells": [
  {
   "cell_type": "code",
   "execution_count": 1,
   "id": "4eb55f5f",
   "metadata": {},
   "outputs": [],
   "source": [
    "import time\n",
    "import warnings\n",
    "from multiprocessing import Pool\n",
    "from pathlib import Path\n",
    "from typing import Optional\n",
    "from pathlib import Path\n",
    "from typing import Mapping, Collection, Literal\n",
    "\n",
    "from dustgoggles.mosaic import parquet_metadata_records, meta_record_df, meta_column_df\n",
    "import matplotlib.pyplot as plt\n",
    "import matplotlib as mpl\n",
    "from marslab.imgops.imgutils import std_clip\n",
    "from marslab.imgops.pltutils import strip_axes\n",
    "from fitsio import FITS\n",
    "from more_itertools import windowed\n",
    "import numpy as np\n",
    "import pandas as pd\n",
    "import pyarrow\n",
    "from pyarrow import parquet\n",
    "from pympler.asizeof import asizeof\n",
    "\n",
    "from gPhoton.aspect import aspect_tables\n",
    "from gPhoton.aspect import load_aspect_solution\n",
    "from gPhoton.calibrate import find_fuv_offset\n",
    "from gPhoton.coords.gnomonic import gnomfwd_simple\n",
    "\n",
    "from gPhoton.io.mast import retrieve_raw6\n",
    "from gPhoton.io.raw6 import load_raw6, get_eclipse_from_header\n",
    "from gPhoton.photonpipe._steps import (\n",
    "    create_ssd_from_decoded_data,\n",
    "    perform_yac_correction,\n",
    "    load_cal_data,\n",
    "    process_chunk_in_shared_memory,\n",
    "    chunk_data,\n",
    "    process_chunk_in_unshared_memory,\n",
    ")\n",
    "from gPhoton.parquet_utils import parquet_to_ndarrays\n",
    "from gPhoton.pretty import print_inline\n",
    "from gPhoton.search.core import filter_galex_eclipses\n",
    "from gPhoton.sharing import (\n",
    "    unlink_nested_block_dict,\n",
    "    slice_into_shared_chunks,\n",
    "    send_mapping_to_shared_memory,\n",
    "    get_column_from_shared_memory,\n",
    ")\n",
    "from gPhoton.reference import eclipse_to_paths\n",
    "from gPhoton.types import GalexBand, Pathlike\n",
    "\n",
    "%matplotlib qt\n",
    "mpl.rcParams['font.size'] = 24\n",
    "mpl.rcParams['image.cmap'] = 'Greys_r'"
   ]
  },
  {
   "cell_type": "code",
   "execution_count": 1,
   "id": "b7a6c290",
   "metadata": {},
   "outputs": [],
   "source": [
    "from pyarrow import parquet\n",
    "import pandas as pd "
   ]
  },
  {
   "cell_type": "code",
   "execution_count": 5,
   "id": "ff86dd4b",
   "metadata": {},
   "outputs": [],
   "source": [
    "ais_eclipses = filter_galex_eclipses(filters=[(\"obstype\", \"=\", \"AIS\")])\n",
    "# examples = (15943, 45845)\n",
    "eclipse, band = 15943, \"NUV\"\n",
    "paths = eclipse_to_paths(\n",
    "    eclipse, data_directory=\"test_data\", compression='rice'\n",
    ")[band]"
   ]
  },
  {
   "cell_type": "code",
   "execution_count": 9,
   "id": "cba8e624",
   "metadata": {},
   "outputs": [],
   "source": [
    "cnt = FITS(paths['images'][0])[1].read()"
   ]
  },
  {
   "cell_type": "code",
   "execution_count": 11,
   "id": "eb680748",
   "metadata": {},
   "outputs": [
    {
     "data": {
      "text/plain": [
       "<matplotlib.image.AxesImage at 0x7f26ec992b30>"
      ]
     },
     "execution_count": 11,
     "metadata": {},
     "output_type": "execute_result"
    }
   ],
   "source": [
    "plt.imshow(std_clip(cnt))"
   ]
  },
  {
   "cell_type": "code",
   "execution_count": null,
   "id": "dcbde4c6",
   "metadata": {},
   "outputs": [],
   "source": [
    "image_files = eclipse_to_paths(\n",
    "    23456, compression='rice', data_directory='test_data'\n",
    ")[\"NUV\"]['images']\n",
    "# fig, grid = plt.subplots(3, 4)\n",
    "# for ix, image_file in enumerate(image_files):\n",
    "#     cnt = FITS(image_file)[1].read()\n",
    "#     ax = grid[ix % 3][ix % 4]\n",
    "#     ax.imshow(std_clip(cnt))\n",
    "#     strip_axes(ax)\n",
    "# fig.show()\n"
   ]
  },
  {
   "cell_type": "code",
   "execution_count": null,
   "id": "7627c636",
   "metadata": {},
   "outputs": [],
   "source": [
    "cnt = FITS(image_files[0])[1].read()\n",
    "plt.imshow(std_clip(cnt))"
   ]
  },
  {
   "cell_type": "code",
   "execution_count": null,
   "id": "62c27244",
   "metadata": {},
   "outputs": [],
   "source": [
    "cnt_old = FITS(\n",
    "    \"test_data/e23456/e23456-nd-full-rice.fits\"\n",
    ")[1].read()"
   ]
  },
  {
   "cell_type": "code",
   "execution_count": null,
   "id": "5dae04a5",
   "metadata": {},
   "outputs": [],
   "source": [
    "plt.imshow(std_clip(np.abs(cnt_old - cnt), sigma=50))\n",
    "plt.colorbar()"
   ]
  },
  {
   "cell_type": "code",
   "execution_count": null,
   "id": "74cee040",
   "metadata": {},
   "outputs": [],
   "source": [
    "len(cnt[np.isfinite(cnt)])"
   ]
  },
  {
   "cell_type": "code",
   "execution_count": null,
   "id": "9b2ebe2c",
   "metadata": {},
   "outputs": [],
   "source": [
    "len(cnt_old[np.isfinite(cnt_old)])"
   ]
  },
  {
   "cell_type": "code",
   "execution_count": null,
   "id": "964cc4c6",
   "metadata": {},
   "outputs": [],
   "source": [
    "meta_column_df(eclipse_to_paths(23456, data_directory=\"test_data\")[\"NUV\"][\"photonfiles\"][0])"
   ]
  },
  {
   "cell_type": "code",
   "execution_count": null,
   "id": "ab0183c4",
   "metadata": {},
   "outputs": [],
   "source": [
    "meta_column_df(eclipse_to_paths(23456, data_directory=\"test_data\")[\"NUV\"][\"photonfiles\"][0])"
   ]
  },
  {
   "cell_type": "code",
   "execution_count": null,
   "id": "a1611f7d",
   "metadata": {},
   "outputs": [],
   "source": [
    "143290187/286584963"
   ]
  },
  {
   "cell_type": "code",
   "execution_count": null,
   "id": "42b1391c",
   "metadata": {},
   "outputs": [],
   "source": [
    "plt.imshow(std_clip(cnt))"
   ]
  },
  {
   "cell_type": "code",
   "execution_count": null,
   "id": "32caf0f5",
   "metadata": {},
   "outputs": [],
   "source": [
    "fig.tight_layout()"
   ]
  },
  {
   "cell_type": "code",
   "execution_count": null,
   "id": "56b1e94b",
   "metadata": {},
   "outputs": [],
   "source": [
    "a = {\n",
    "    (0, 1): 1,\n",
    "    (0, 2): 2,\n",
    "    (1, 0): 1,\n",
    "    (1, 1): 2\n",
    "}    "
   ]
  },
  {
   "cell_type": "code",
   "execution_count": null,
   "id": "7a7a3fc7",
   "metadata": {},
   "outputs": [],
   "source": [
    "b = {\n",
    "    address: a.pop(address)\n",
    "    for address in a.keys()\n",
    "    if address[0] == 0\n",
    "}"
   ]
  },
  {
   "cell_type": "code",
   "execution_count": 3,
   "id": "b0d014b5",
   "metadata": {},
   "outputs": [
    {
     "data": {
      "text/plain": [
       "pyarrow.Table\n",
       "t: double\n",
       "col: float\n",
       "row: float\n",
       "detrad: float\n",
       "----\n",
       "t: [[738997337.995,738997337.995,738997337.995,738997337.995,738997337.995,...,738997341.8,738997341.8,738997341.8,738997341.8,738997341.8],[738997341.8,738997341.8,738997341.8,738997341.8,738997341.8,...,738997345.585,738997345.585,738997345.585,738997345.585,738997345.585],...,[738997891.595,738997891.595,738997891.595,738997891.595,738997891.595,...,738997895.56,738997895.56,738997895.56,738997895.56,738997895.56],[738997895.56,738997895.56,738997895.56,738997895.56,738997895.56,...,738997898.99,738997898.99,738997898.99,738997898.99,738997898.99]]\n",
       "col: [[301.0346,406.84717,279.5562,215.63876,399.0325,...,318.20795,155.94112,764.90106,403.56775,713.57556],[559.8968,479.69144,111.23763,106.29762,754.9899,...,337.36295,407.38724,300.7121,516.6921,418.53616],...,[354.10757,354.9103,155.0092,203.93974,278.1068,...,175.79214,440.03006,247.48195,497.46524,434.89377],[44.946453,502.5863,181.69638,455.0482,306.1436,...,207.19789,307.53915,350.25522,133.71107,201.2163]]\n",
       "row: [[43.281868,629.6703,110.41182,144.32236,368.42413,...,128.03279,526.4706,424.9253,359.0741,485.8742],[637.5803,749.1976,468.17874,553.39636,392.08844,...,505.16245,729.02997,441.85648,149.19116,513.5931],...,[238.86688,430.09625,192.09834,148.77353,342.88638,...,609.73706,633.6788,697.19354,160.65306,713.61145],[336.29932,718.74884,273,151.95709,753.09845,...,285.20587,143.40298,673.73346,204.64282,267.17273]]\n",
       "detrad: [[370.19183,229.77234,313.63678,315.21442,31.590685,...,284.00018,274.88098,365.75134,41.08112,325.12155],[286.3763,358.17548,296.70193,331.34805,355.0781,...,122.40318,329.11288,107.749954,276.6263,115.09551],...,[167.54103,54.211296,321.3154,318.67593,134.61023,...,307.01596,237.08264,334.04456,258.4307,315.5467],[360.72263,334.85037,252.55785,254.07793,365.35947,...,224.38882,272.7472,278.21674,330.26385,239.07748]]"
      ]
     },
     "execution_count": 3,
     "metadata": {},
     "output_type": "execute_result"
    }
   ],
   "source": [
    "parquet.read_table(\n",
    "            '/home/bekah/gPhoton2/test_data/e00580/e00580-nd-b00.parquet', columns=['t', 'col', 'row', 'detrad']\n",
    "        )"
   ]
  },
  {
   "cell_type": "code",
   "execution_count": 1,
   "id": "f40eeca3",
   "metadata": {},
   "outputs": [],
   "source": [
    "from pyarrow import parquet \n"
   ]
  },
  {
   "cell_type": "code",
   "execution_count": 12,
   "id": "22ce49c1",
   "metadata": {},
   "outputs": [],
   "source": [
    "#bore\n",
    "bore = parquet.read_table(\"/home/bekah/gPhoton2/gPhoton/aspect/boresight.parquet\",filters=[('eclipse','==',580)]).to_pandas()"
   ]
  },
  {
   "cell_type": "code",
   "execution_count": 17,
   "id": "d79de79e",
   "metadata": {},
   "outputs": [
    {
     "data": {
      "text/plain": [
       "738997337.995"
      ]
     },
     "execution_count": 17,
     "metadata": {},
     "output_type": "execute_result"
    }
   ],
   "source": [
    "bore['time'].iloc[0]"
   ]
  },
  {
   "cell_type": "code",
   "execution_count": 6,
   "id": "f81b0995",
   "metadata": {},
   "outputs": [],
   "source": [
    "tab = parquet.read_table(\"/home/bekah/gPhoton2/gPhoton/aspect/aspect2.parquet\",filters=[('eclipse','==',580)]).to_pandas()"
   ]
  },
  {
   "cell_type": "code",
   "execution_count": 9,
   "id": "c697c2ec",
   "metadata": {},
   "outputs": [
    {
     "data": {
      "text/plain": [
       "738997305.995"
      ]
     },
     "execution_count": 9,
     "metadata": {},
     "output_type": "execute_result"
    }
   ],
   "source": [
    "tab[\"pktime\"].iloc[0]"
   ]
  },
  {
   "cell_type": "code",
   "execution_count": 11,
   "id": "5f0f940d",
   "metadata": {},
   "outputs": [
    {
     "data": {
      "text/plain": [
       "738997337.995"
      ]
     },
     "execution_count": 11,
     "metadata": {},
     "output_type": "execute_result"
    }
   ],
   "source": [
    "tab[(tab['hvnom_fuv'] == 1) | (tab['hvnom_nuv'] == 1)]['pktime'].iloc[0]"
   ]
  },
  {
   "cell_type": "code",
   "execution_count": 23,
   "id": "e3995b46",
   "metadata": {},
   "outputs": [
    {
     "data": {
      "text/plain": [
       "0.0"
      ]
     },
     "execution_count": 23,
     "metadata": {},
     "output_type": "execute_result"
    }
   ],
   "source": [
    "tab.iloc[0]['pktime']-tab1.iloc[0]['time']"
   ]
  },
  {
   "cell_type": "code",
   "execution_count": 19,
   "id": "0dc0a1ef",
   "metadata": {},
   "outputs": [
    {
     "data": {
      "text/plain": [
       "-591.0"
      ]
     },
     "execution_count": 19,
     "metadata": {},
     "output_type": "execute_result"
    }
   ],
   "source": [
    "738997305.995-738997337.995-559\n"
   ]
  },
  {
   "cell_type": "code",
   "execution_count": 80,
   "id": "7f646a0c",
   "metadata": {},
   "outputs": [
    {
     "data": {
      "text/plain": [
       "-32.0"
      ]
     },
     "execution_count": 80,
     "metadata": {},
     "output_type": "execute_result"
    }
   ],
   "source": [
    "738997305.995-738997337.995\n"
   ]
  },
  {
   "cell_type": "code",
   "execution_count": 68,
   "id": "f1b04315",
   "metadata": {},
   "outputs": [
    {
     "data": {
      "text/plain": [
       "738997337.995"
      ]
     },
     "execution_count": 68,
     "metadata": {},
     "output_type": "execute_result"
    }
   ],
   "source": [
    "tab.iloc[0]['pktime']"
   ]
  },
  {
   "cell_type": "code",
   "execution_count": null,
   "id": "612f482a",
   "metadata": {},
   "outputs": [],
   "source": [
    "738997337.995"
   ]
  },
  {
   "cell_type": "code",
   "execution_count": 76,
   "id": "4c76a29a",
   "metadata": {},
   "outputs": [
    {
     "data": {
      "text/plain": [
       "564.0"
      ]
     },
     "execution_count": 76,
     "metadata": {},
     "output_type": "execute_result"
    }
   ],
   "source": [
    "tab.iloc[564]['pktime']-tab.iloc[0]['pktime']"
   ]
  },
  {
   "cell_type": "code",
   "execution_count": 22,
   "id": "e4a45ef2",
   "metadata": {},
   "outputs": [
    {
     "data": {
      "text/plain": [
       "-38.0"
      ]
     },
     "execution_count": 22,
     "metadata": {},
     "output_type": "execute_result"
    }
   ],
   "source": [
    "tab.iloc[558]['pktime']-tab1.iloc[564]['time']"
   ]
  },
  {
   "cell_type": "code",
   "execution_count": 23,
   "id": "3f335ecc",
   "metadata": {},
   "outputs": [
    {
     "data": {
      "text/plain": [
       "-32.0"
      ]
     },
     "execution_count": 23,
     "metadata": {},
     "output_type": "execute_result"
    }
   ],
   "source": [
    "tab.iloc[0]['pktime']-tab1.iloc[0]['time']"
   ]
  },
  {
   "cell_type": "code",
   "execution_count": 9,
   "id": "52d44cef",
   "metadata": {},
   "outputs": [
    {
     "data": {
      "text/plain": [
       "738997899.995"
      ]
     },
     "execution_count": 9,
     "metadata": {},
     "output_type": "execute_result"
    }
   ],
   "source": [
    "tab.iloc[557]['pktime']"
   ]
  },
  {
   "cell_type": "code",
   "execution_count": 11,
   "id": "890d679b",
   "metadata": {},
   "outputs": [
    {
     "ename": "KeyError",
     "evalue": "'time'",
     "output_type": "error",
     "traceback": [
      "\u001b[0;31m---------------------------------------------------------------------------\u001b[0m",
      "\u001b[0;31mKeyError\u001b[0m                                  Traceback (most recent call last)",
      "Input \u001b[0;32mIn [11]\u001b[0m, in \u001b[0;36m<cell line: 2>\u001b[0;34m()\u001b[0m\n\u001b[1;32m      1\u001b[0m tab\u001b[38;5;241m=\u001b[39mtab\u001b[38;5;241m.\u001b[39mrename({\u001b[38;5;124m'\u001b[39m\u001b[38;5;124mpktime\u001b[39m\u001b[38;5;124m'\u001b[39m:\u001b[38;5;124m'\u001b[39m\u001b[38;5;124mtime\u001b[39m\u001b[38;5;124m'\u001b[39m})\n\u001b[0;32m----> 2\u001b[0m tab \u001b[38;5;241m=\u001b[39m \u001b[43mtab\u001b[49m\u001b[38;5;241;43m.\u001b[39;49m\u001b[43mjoin\u001b[49m\u001b[43m(\u001b[49m\u001b[43mtab1\u001b[49m\u001b[43m,\u001b[49m\u001b[38;5;124;43m'\u001b[39;49m\u001b[38;5;124;43mtime\u001b[39;49m\u001b[38;5;124;43m'\u001b[39;49m\u001b[43m)\u001b[49m\n\u001b[1;32m      3\u001b[0m tab\n",
      "File \u001b[0;32m~/mambaforge/envs/gphoton/lib/python3.9/site-packages/pandas/core/frame.py:9260\u001b[0m, in \u001b[0;36mDataFrame.join\u001b[0;34m(self, other, on, how, lsuffix, rsuffix, sort)\u001b[0m\n\u001b[1;32m   9106\u001b[0m \u001b[38;5;28;01mdef\u001b[39;00m \u001b[38;5;21mjoin\u001b[39m(\n\u001b[1;32m   9107\u001b[0m     \u001b[38;5;28mself\u001b[39m,\n\u001b[1;32m   9108\u001b[0m     other: DataFrame \u001b[38;5;241m|\u001b[39m Series,\n\u001b[0;32m   (...)\u001b[0m\n\u001b[1;32m   9113\u001b[0m     sort: \u001b[38;5;28mbool\u001b[39m \u001b[38;5;241m=\u001b[39m \u001b[38;5;28;01mFalse\u001b[39;00m,\n\u001b[1;32m   9114\u001b[0m ) \u001b[38;5;241m-\u001b[39m\u001b[38;5;241m>\u001b[39m DataFrame:\n\u001b[1;32m   9115\u001b[0m     \u001b[38;5;124;03m\"\"\"\u001b[39;00m\n\u001b[1;32m   9116\u001b[0m \u001b[38;5;124;03m    Join columns of another DataFrame.\u001b[39;00m\n\u001b[1;32m   9117\u001b[0m \n\u001b[0;32m   (...)\u001b[0m\n\u001b[1;32m   9258\u001b[0m \u001b[38;5;124;03m    5  K1  A5   B1\u001b[39;00m\n\u001b[1;32m   9259\u001b[0m \u001b[38;5;124;03m    \"\"\"\u001b[39;00m\n\u001b[0;32m-> 9260\u001b[0m     \u001b[38;5;28;01mreturn\u001b[39;00m \u001b[38;5;28;43mself\u001b[39;49m\u001b[38;5;241;43m.\u001b[39;49m\u001b[43m_join_compat\u001b[49m\u001b[43m(\u001b[49m\n\u001b[1;32m   9261\u001b[0m \u001b[43m        \u001b[49m\u001b[43mother\u001b[49m\u001b[43m,\u001b[49m\u001b[43m \u001b[49m\u001b[43mon\u001b[49m\u001b[38;5;241;43m=\u001b[39;49m\u001b[43mon\u001b[49m\u001b[43m,\u001b[49m\u001b[43m \u001b[49m\u001b[43mhow\u001b[49m\u001b[38;5;241;43m=\u001b[39;49m\u001b[43mhow\u001b[49m\u001b[43m,\u001b[49m\u001b[43m \u001b[49m\u001b[43mlsuffix\u001b[49m\u001b[38;5;241;43m=\u001b[39;49m\u001b[43mlsuffix\u001b[49m\u001b[43m,\u001b[49m\u001b[43m \u001b[49m\u001b[43mrsuffix\u001b[49m\u001b[38;5;241;43m=\u001b[39;49m\u001b[43mrsuffix\u001b[49m\u001b[43m,\u001b[49m\u001b[43m \u001b[49m\u001b[43msort\u001b[49m\u001b[38;5;241;43m=\u001b[39;49m\u001b[43msort\u001b[49m\n\u001b[1;32m   9262\u001b[0m \u001b[43m    \u001b[49m\u001b[43m)\u001b[49m\n",
      "File \u001b[0;32m~/mambaforge/envs/gphoton/lib/python3.9/site-packages/pandas/core/frame.py:9291\u001b[0m, in \u001b[0;36mDataFrame._join_compat\u001b[0;34m(self, other, on, how, lsuffix, rsuffix, sort)\u001b[0m\n\u001b[1;32m   9282\u001b[0m     \u001b[38;5;28;01mif\u001b[39;00m how \u001b[38;5;241m==\u001b[39m \u001b[38;5;124m\"\u001b[39m\u001b[38;5;124mcross\u001b[39m\u001b[38;5;124m\"\u001b[39m:\n\u001b[1;32m   9283\u001b[0m         \u001b[38;5;28;01mreturn\u001b[39;00m merge(\n\u001b[1;32m   9284\u001b[0m             \u001b[38;5;28mself\u001b[39m,\n\u001b[1;32m   9285\u001b[0m             other,\n\u001b[0;32m   (...)\u001b[0m\n\u001b[1;32m   9289\u001b[0m             sort\u001b[38;5;241m=\u001b[39msort,\n\u001b[1;32m   9290\u001b[0m         )\n\u001b[0;32m-> 9291\u001b[0m     \u001b[38;5;28;01mreturn\u001b[39;00m \u001b[43mmerge\u001b[49m\u001b[43m(\u001b[49m\n\u001b[1;32m   9292\u001b[0m \u001b[43m        \u001b[49m\u001b[38;5;28;43mself\u001b[39;49m\u001b[43m,\u001b[49m\n\u001b[1;32m   9293\u001b[0m \u001b[43m        \u001b[49m\u001b[43mother\u001b[49m\u001b[43m,\u001b[49m\n\u001b[1;32m   9294\u001b[0m \u001b[43m        \u001b[49m\u001b[43mleft_on\u001b[49m\u001b[38;5;241;43m=\u001b[39;49m\u001b[43mon\u001b[49m\u001b[43m,\u001b[49m\n\u001b[1;32m   9295\u001b[0m \u001b[43m        \u001b[49m\u001b[43mhow\u001b[49m\u001b[38;5;241;43m=\u001b[39;49m\u001b[43mhow\u001b[49m\u001b[43m,\u001b[49m\n\u001b[1;32m   9296\u001b[0m \u001b[43m        \u001b[49m\u001b[43mleft_index\u001b[49m\u001b[38;5;241;43m=\u001b[39;49m\u001b[43mon\u001b[49m\u001b[43m \u001b[49m\u001b[38;5;129;43;01mis\u001b[39;49;00m\u001b[43m \u001b[49m\u001b[38;5;28;43;01mNone\u001b[39;49;00m\u001b[43m,\u001b[49m\n\u001b[1;32m   9297\u001b[0m \u001b[43m        \u001b[49m\u001b[43mright_index\u001b[49m\u001b[38;5;241;43m=\u001b[39;49m\u001b[38;5;28;43;01mTrue\u001b[39;49;00m\u001b[43m,\u001b[49m\n\u001b[1;32m   9298\u001b[0m \u001b[43m        \u001b[49m\u001b[43msuffixes\u001b[49m\u001b[38;5;241;43m=\u001b[39;49m\u001b[43m(\u001b[49m\u001b[43mlsuffix\u001b[49m\u001b[43m,\u001b[49m\u001b[43m \u001b[49m\u001b[43mrsuffix\u001b[49m\u001b[43m)\u001b[49m\u001b[43m,\u001b[49m\n\u001b[1;32m   9299\u001b[0m \u001b[43m        \u001b[49m\u001b[43msort\u001b[49m\u001b[38;5;241;43m=\u001b[39;49m\u001b[43msort\u001b[49m\u001b[43m,\u001b[49m\n\u001b[1;32m   9300\u001b[0m \u001b[43m    \u001b[49m\u001b[43m)\u001b[49m\n\u001b[1;32m   9301\u001b[0m \u001b[38;5;28;01melse\u001b[39;00m:\n\u001b[1;32m   9302\u001b[0m     \u001b[38;5;28;01mif\u001b[39;00m on \u001b[38;5;129;01mis\u001b[39;00m \u001b[38;5;129;01mnot\u001b[39;00m \u001b[38;5;28;01mNone\u001b[39;00m:\n",
      "File \u001b[0;32m~/mambaforge/envs/gphoton/lib/python3.9/site-packages/pandas/core/reshape/merge.py:107\u001b[0m, in \u001b[0;36mmerge\u001b[0;34m(left, right, how, on, left_on, right_on, left_index, right_index, sort, suffixes, copy, indicator, validate)\u001b[0m\n\u001b[1;32m     90\u001b[0m \u001b[38;5;129m@Substitution\u001b[39m(\u001b[38;5;124m\"\u001b[39m\u001b[38;5;130;01m\\n\u001b[39;00m\u001b[38;5;124mleft : DataFrame or named Series\u001b[39m\u001b[38;5;124m\"\u001b[39m)\n\u001b[1;32m     91\u001b[0m \u001b[38;5;129m@Appender\u001b[39m(_merge_doc, indents\u001b[38;5;241m=\u001b[39m\u001b[38;5;241m0\u001b[39m)\n\u001b[1;32m     92\u001b[0m \u001b[38;5;28;01mdef\u001b[39;00m \u001b[38;5;21mmerge\u001b[39m(\n\u001b[0;32m   (...)\u001b[0m\n\u001b[1;32m    105\u001b[0m     validate: \u001b[38;5;28mstr\u001b[39m \u001b[38;5;241m|\u001b[39m \u001b[38;5;28;01mNone\u001b[39;00m \u001b[38;5;241m=\u001b[39m \u001b[38;5;28;01mNone\u001b[39;00m,\n\u001b[1;32m    106\u001b[0m ) \u001b[38;5;241m-\u001b[39m\u001b[38;5;241m>\u001b[39m DataFrame:\n\u001b[0;32m--> 107\u001b[0m     op \u001b[38;5;241m=\u001b[39m \u001b[43m_MergeOperation\u001b[49m\u001b[43m(\u001b[49m\n\u001b[1;32m    108\u001b[0m \u001b[43m        \u001b[49m\u001b[43mleft\u001b[49m\u001b[43m,\u001b[49m\n\u001b[1;32m    109\u001b[0m \u001b[43m        \u001b[49m\u001b[43mright\u001b[49m\u001b[43m,\u001b[49m\n\u001b[1;32m    110\u001b[0m \u001b[43m        \u001b[49m\u001b[43mhow\u001b[49m\u001b[38;5;241;43m=\u001b[39;49m\u001b[43mhow\u001b[49m\u001b[43m,\u001b[49m\n\u001b[1;32m    111\u001b[0m \u001b[43m        \u001b[49m\u001b[43mon\u001b[49m\u001b[38;5;241;43m=\u001b[39;49m\u001b[43mon\u001b[49m\u001b[43m,\u001b[49m\n\u001b[1;32m    112\u001b[0m \u001b[43m        \u001b[49m\u001b[43mleft_on\u001b[49m\u001b[38;5;241;43m=\u001b[39;49m\u001b[43mleft_on\u001b[49m\u001b[43m,\u001b[49m\n\u001b[1;32m    113\u001b[0m \u001b[43m        \u001b[49m\u001b[43mright_on\u001b[49m\u001b[38;5;241;43m=\u001b[39;49m\u001b[43mright_on\u001b[49m\u001b[43m,\u001b[49m\n\u001b[1;32m    114\u001b[0m \u001b[43m        \u001b[49m\u001b[43mleft_index\u001b[49m\u001b[38;5;241;43m=\u001b[39;49m\u001b[43mleft_index\u001b[49m\u001b[43m,\u001b[49m\n\u001b[1;32m    115\u001b[0m \u001b[43m        \u001b[49m\u001b[43mright_index\u001b[49m\u001b[38;5;241;43m=\u001b[39;49m\u001b[43mright_index\u001b[49m\u001b[43m,\u001b[49m\n\u001b[1;32m    116\u001b[0m \u001b[43m        \u001b[49m\u001b[43msort\u001b[49m\u001b[38;5;241;43m=\u001b[39;49m\u001b[43msort\u001b[49m\u001b[43m,\u001b[49m\n\u001b[1;32m    117\u001b[0m \u001b[43m        \u001b[49m\u001b[43msuffixes\u001b[49m\u001b[38;5;241;43m=\u001b[39;49m\u001b[43msuffixes\u001b[49m\u001b[43m,\u001b[49m\n\u001b[1;32m    118\u001b[0m \u001b[43m        \u001b[49m\u001b[43mcopy\u001b[49m\u001b[38;5;241;43m=\u001b[39;49m\u001b[43mcopy\u001b[49m\u001b[43m,\u001b[49m\n\u001b[1;32m    119\u001b[0m \u001b[43m        \u001b[49m\u001b[43mindicator\u001b[49m\u001b[38;5;241;43m=\u001b[39;49m\u001b[43mindicator\u001b[49m\u001b[43m,\u001b[49m\n\u001b[1;32m    120\u001b[0m \u001b[43m        \u001b[49m\u001b[43mvalidate\u001b[49m\u001b[38;5;241;43m=\u001b[39;49m\u001b[43mvalidate\u001b[49m\u001b[43m,\u001b[49m\n\u001b[1;32m    121\u001b[0m \u001b[43m    \u001b[49m\u001b[43m)\u001b[49m\n\u001b[1;32m    122\u001b[0m     \u001b[38;5;28;01mreturn\u001b[39;00m op\u001b[38;5;241m.\u001b[39mget_result()\n",
      "File \u001b[0;32m~/mambaforge/envs/gphoton/lib/python3.9/site-packages/pandas/core/reshape/merge.py:700\u001b[0m, in \u001b[0;36m_MergeOperation.__init__\u001b[0;34m(self, left, right, how, on, left_on, right_on, axis, left_index, right_index, sort, suffixes, copy, indicator, validate)\u001b[0m\n\u001b[1;32m    693\u001b[0m \u001b[38;5;28mself\u001b[39m\u001b[38;5;241m.\u001b[39m_cross \u001b[38;5;241m=\u001b[39m cross_col\n\u001b[1;32m    695\u001b[0m \u001b[38;5;66;03m# note this function has side effects\u001b[39;00m\n\u001b[1;32m    696\u001b[0m (\n\u001b[1;32m    697\u001b[0m     \u001b[38;5;28mself\u001b[39m\u001b[38;5;241m.\u001b[39mleft_join_keys,\n\u001b[1;32m    698\u001b[0m     \u001b[38;5;28mself\u001b[39m\u001b[38;5;241m.\u001b[39mright_join_keys,\n\u001b[1;32m    699\u001b[0m     \u001b[38;5;28mself\u001b[39m\u001b[38;5;241m.\u001b[39mjoin_names,\n\u001b[0;32m--> 700\u001b[0m ) \u001b[38;5;241m=\u001b[39m \u001b[38;5;28;43mself\u001b[39;49m\u001b[38;5;241;43m.\u001b[39;49m\u001b[43m_get_merge_keys\u001b[49m\u001b[43m(\u001b[49m\u001b[43m)\u001b[49m\n\u001b[1;32m    702\u001b[0m \u001b[38;5;66;03m# validate the merge keys dtypes. We may need to coerce\u001b[39;00m\n\u001b[1;32m    703\u001b[0m \u001b[38;5;66;03m# to avoid incompatible dtypes\u001b[39;00m\n\u001b[1;32m    704\u001b[0m \u001b[38;5;28mself\u001b[39m\u001b[38;5;241m.\u001b[39m_maybe_coerce_merge_keys()\n",
      "File \u001b[0;32m~/mambaforge/envs/gphoton/lib/python3.9/site-packages/pandas/core/reshape/merge.py:1122\u001b[0m, in \u001b[0;36m_MergeOperation._get_merge_keys\u001b[0;34m(self)\u001b[0m\n\u001b[1;32m   1120\u001b[0m         join_names\u001b[38;5;241m.\u001b[39mappend(\u001b[38;5;28;01mNone\u001b[39;00m)\n\u001b[1;32m   1121\u001b[0m     \u001b[38;5;28;01melse\u001b[39;00m:\n\u001b[0;32m-> 1122\u001b[0m         left_keys\u001b[38;5;241m.\u001b[39mappend(\u001b[43mleft\u001b[49m\u001b[38;5;241;43m.\u001b[39;49m\u001b[43m_get_label_or_level_values\u001b[49m\u001b[43m(\u001b[49m\u001b[43mk\u001b[49m\u001b[43m)\u001b[49m)\n\u001b[1;32m   1123\u001b[0m         join_names\u001b[38;5;241m.\u001b[39mappend(k)\n\u001b[1;32m   1124\u001b[0m \u001b[38;5;28;01mif\u001b[39;00m \u001b[38;5;28misinstance\u001b[39m(\u001b[38;5;28mself\u001b[39m\u001b[38;5;241m.\u001b[39mright\u001b[38;5;241m.\u001b[39mindex, MultiIndex):\n",
      "File \u001b[0;32m~/mambaforge/envs/gphoton/lib/python3.9/site-packages/pandas/core/generic.py:1840\u001b[0m, in \u001b[0;36mNDFrame._get_label_or_level_values\u001b[0;34m(self, key, axis)\u001b[0m\n\u001b[1;32m   1838\u001b[0m     values \u001b[38;5;241m=\u001b[39m \u001b[38;5;28mself\u001b[39m\u001b[38;5;241m.\u001b[39maxes[axis]\u001b[38;5;241m.\u001b[39mget_level_values(key)\u001b[38;5;241m.\u001b[39m_values\n\u001b[1;32m   1839\u001b[0m \u001b[38;5;28;01melse\u001b[39;00m:\n\u001b[0;32m-> 1840\u001b[0m     \u001b[38;5;28;01mraise\u001b[39;00m \u001b[38;5;167;01mKeyError\u001b[39;00m(key)\n\u001b[1;32m   1842\u001b[0m \u001b[38;5;66;03m# Check for duplicates\u001b[39;00m\n\u001b[1;32m   1843\u001b[0m \u001b[38;5;28;01mif\u001b[39;00m values\u001b[38;5;241m.\u001b[39mndim \u001b[38;5;241m>\u001b[39m \u001b[38;5;241m1\u001b[39m:\n",
      "\u001b[0;31mKeyError\u001b[0m: 'time'"
     ]
    }
   ],
   "source": [
    "tab=tab.rename({'pktime':'time'})\n",
    "tab = tab.join(tab1,'time')\n",
    "tab"
   ]
  },
  {
   "cell_type": "code",
   "execution_count": 22,
   "id": "f1fb0c65",
   "metadata": {},
   "outputs": [],
   "source": [
    "tab1 = parquet.read_table(\"/home/bekah/gPhoton2/gPhoton/aspect/aspect.parquet\",filters=[('eclipse','==',580)]).to_pandas()"
   ]
  },
  {
   "cell_type": "code",
   "execution_count": 5,
   "id": "0e4bdca1",
   "metadata": {},
   "outputs": [
    {
     "data": {
      "text/plain": [
       "0.0"
      ]
     },
     "execution_count": 5,
     "metadata": {},
     "output_type": "execute_result"
    }
   ],
   "source": [
    "tab1.iloc[0]['time']-738997337.995"
   ]
  },
  {
   "cell_type": "code",
   "execution_count": 2,
   "id": "7b77fe51",
   "metadata": {},
   "outputs": [],
   "source": [
    "bore = parquet.read_table(\"/home/bekah/gPhoton2/gPhoton/aspect/boresight.parquet\",filters=[('eclipse','==',580)]).to_pandas()"
   ]
  },
  {
   "cell_type": "code",
   "execution_count": 50,
   "id": "0cd8d71a",
   "metadata": {},
   "outputs": [
    {
     "data": {
      "text/plain": [
       "738997337.995"
      ]
     },
     "execution_count": 50,
     "metadata": {},
     "output_type": "execute_result"
    }
   ],
   "source": [
    "float(bore['time'])"
   ]
  },
  {
   "cell_type": "code",
   "execution_count": 3,
   "id": "479f4401",
   "metadata": {},
   "outputs": [
    {
     "data": {
      "text/html": [
       "<div>\n",
       "<style scoped>\n",
       "    .dataframe tbody tr th:only-of-type {\n",
       "        vertical-align: middle;\n",
       "    }\n",
       "\n",
       "    .dataframe tbody tr th {\n",
       "        vertical-align: top;\n",
       "    }\n",
       "\n",
       "    .dataframe thead th {\n",
       "        text-align: right;\n",
       "    }\n",
       "</style>\n",
       "<table border=\"1\" class=\"dataframe\">\n",
       "  <thead>\n",
       "    <tr style=\"text-align: right;\">\n",
       "      <th></th>\n",
       "      <th>eclipse</th>\n",
       "      <th>time</th>\n",
       "      <th>ra0</th>\n",
       "      <th>dec0</th>\n",
       "      <th>roll0</th>\n",
       "    </tr>\n",
       "  </thead>\n",
       "  <tbody>\n",
       "    <tr>\n",
       "      <th>0</th>\n",
       "      <td>580</td>\n",
       "      <td>7.389973e+08</td>\n",
       "      <td>210.554346</td>\n",
       "      <td>-32.686215</td>\n",
       "      <td>0.000632</td>\n",
       "    </tr>\n",
       "  </tbody>\n",
       "</table>\n",
       "</div>"
      ],
      "text/plain": [
       "   eclipse          time         ra0       dec0     roll0\n",
       "0      580  7.389973e+08  210.554346 -32.686215  0.000632"
      ]
     },
     "execution_count": 3,
     "metadata": {},
     "output_type": "execute_result"
    }
   ],
   "source": [
    "bore"
   ]
  },
  {
   "cell_type": "code",
   "execution_count": 52,
   "id": "a01250db",
   "metadata": {},
   "outputs": [
    {
     "data": {
      "text/plain": [
       "738997337.995"
      ]
     },
     "execution_count": 52,
     "metadata": {},
     "output_type": "execute_result"
    }
   ],
   "source": [
    "tab1.iloc[0]['time']"
   ]
  },
  {
   "cell_type": "code",
   "execution_count": 57,
   "id": "bef3953d",
   "metadata": {},
   "outputs": [
    {
     "data": {
      "text/plain": [
       "738997342.995"
      ]
     },
     "execution_count": 57,
     "metadata": {},
     "output_type": "execute_result"
    }
   ],
   "source": [
    "tab.iloc[0]['pktime']"
   ]
  },
  {
   "cell_type": "code",
   "execution_count": 59,
   "id": "863ca23a",
   "metadata": {},
   "outputs": [
    {
     "data": {
      "text/plain": [
       "738997305.995"
      ]
     },
     "execution_count": 59,
     "metadata": {},
     "output_type": "execute_result"
    }
   ],
   "source": [
    "tab.iloc[0]['pktime'] \n",
    "# no voltage filter "
   ]
  },
  {
   "cell_type": "code",
   "execution_count": 61,
   "id": "d0fa015e",
   "metadata": {},
   "outputs": [
    {
     "data": {
      "text/plain": [
       "-32.0"
      ]
     },
     "execution_count": 61,
     "metadata": {},
     "output_type": "execute_result"
    }
   ],
   "source": [
    "tab.iloc[0]['pktime']-float(bore['time'])"
   ]
  },
  {
   "cell_type": "code",
   "execution_count": 62,
   "id": "8e2b1e0a",
   "metadata": {},
   "outputs": [
    {
     "data": {
      "text/plain": [
       "5.0"
      ]
     },
     "execution_count": 62,
     "metadata": {},
     "output_type": "execute_result"
    }
   ],
   "source": [
    "738997342.995-float(bore['time'])"
   ]
  },
  {
   "cell_type": "code",
   "execution_count": 12,
   "id": "586bd7bb",
   "metadata": {},
   "outputs": [
    {
     "data": {
      "text/plain": [
       "32.0"
      ]
     },
     "execution_count": 12,
     "metadata": {},
     "output_type": "execute_result"
    }
   ],
   "source": [
    "tab1.iloc[0]['time']-tab.iloc[0]['pktime']"
   ]
  },
  {
   "cell_type": "code",
   "execution_count": 43,
   "id": "8f38cddd",
   "metadata": {},
   "outputs": [
    {
     "data": {
      "text/plain": [
       "1699.0"
      ]
     },
     "execution_count": 43,
     "metadata": {},
     "output_type": "execute_result"
    }
   ],
   "source": [
    "tab1.iloc[1316]['time']-tab1.iloc[0]['time']"
   ]
  },
  {
   "cell_type": "code",
   "execution_count": 42,
   "id": "850c39f7",
   "metadata": {},
   "outputs": [
    {
     "data": {
      "text/plain": [
       "-3.0"
      ]
     },
     "execution_count": 42,
     "metadata": {},
     "output_type": "execute_result"
    }
   ],
   "source": [
    "tab1.iloc[1316]['time']-tab.iloc[1702]['pktime']"
   ]
  },
  {
   "cell_type": "code",
   "execution_count": null,
   "id": "84713c15",
   "metadata": {},
   "outputs": [],
   "source": [
    "raw6_tab = pyarrow.Table.from_arrays(\n",
    "    tuple(data.values()), names=tuple(data.keys())\n",
    ")"
   ]
  },
  {
   "cell_type": "code",
   "execution_count": null,
   "id": "e9179586",
   "metadata": {},
   "outputs": [],
   "source": [
    "splits = [\n",
    "    0, \n",
    "    *np.nonzero(np.diff(aspect['time']) > 10)[0], \n",
    "    len(aspect['time'])\n",
    "]\n",
    "partitions = list(windowed(splits, 2))\n",
    "asp_df = pd.DataFrame(aspect)\n",
    "legs = [\n",
    "    asp_df.iloc[p[0] + 1:p[1] + 1] for p in partitions\n",
    "]"
   ]
  },
  {
   "cell_type": "code",
   "execution_count": null,
   "id": "031fe737",
   "metadata": {},
   "outputs": [],
   "source": [
    "len(aspect['eclipse'])"
   ]
  },
  {
   "cell_type": "code",
   "execution_count": null,
   "id": "eebc0f30",
   "metadata": {},
   "outputs": [],
   "source": [
    "aspect = parquet.read_table(\n",
    "    '/home/michael/Desktop/gphoton_working/gPhoton/aspect/aspect.parquet',\n",
    "    filters=[('eclipse', '=', eclipse)]\n",
    ").to_pandas()\n",
    "partitions = [(-1, partitions[0][0]), *partitions, (partitions[-1][1], -2)]\n"
   ]
  },
  {
   "cell_type": "code",
   "execution_count": null,
   "id": "33b13c8b",
   "metadata": {},
   "outputs": [],
   "source": [
    "parquet.write_table(\n",
    "    raw6_tab, \n",
    "    \"unpacked_raw6.parquet\", \n",
    "    use_dictionary=[\"t\", \"xb\", \"xamc\", \"yb\", \"yamc\", \"q\", \"xa\", \"ya\", \"x\", \"y\"]\n",
    ")"
   ]
  },
  {
   "cell_type": "code",
   "execution_count": null,
   "id": "1c0c25ec",
   "metadata": {},
   "outputs": [],
   "source": [
    "meta_column_df('unpacked_raw6.parquet')"
   ]
  },
  {
   "cell_type": "code",
   "execution_count": null,
   "id": "d0a4fd69",
   "metadata": {},
   "outputs": [],
   "source": [
    "import fitsio"
   ]
  },
  {
   "cell_type": "code",
   "execution_count": null,
   "id": "ace66096",
   "metadata": {},
   "outputs": [],
   "source": [
    "hdul = fitsio.FITS(\"/home/michael/Desktop/gphoton_working/test_data/e23456/e23456-nd-full-0-rice.fits\")"
   ]
  },
  {
   "cell_type": "code",
   "execution_count": null,
   "id": "6995c805",
   "metadata": {},
   "outputs": [],
   "source": [
    "hdul_2 = fitsio.FITS(\"/home/michael/Desktop/gphoton_working/test_data/e23456/e23456-nd-full-rice.fits\")"
   ]
  },
  {
   "cell_type": "code",
   "execution_count": null,
   "id": "4c788649",
   "metadata": {},
   "outputs": [],
   "source": [
    "cntnew = hdul[1].read()\n",
    "cntold = hdul_2[1].read()"
   ]
  },
  {
   "cell_type": "code",
   "execution_count": null,
   "id": "184ef97b",
   "metadata": {},
   "outputs": [],
   "source": [
    "import numpy as np\n",
    "np.nanmax(np.abs(cntnew - cntold))"
   ]
  },
  {
   "cell_type": "code",
   "execution_count": null,
   "id": "18dd6d41",
   "metadata": {},
   "outputs": [],
   "source": [
    "import matplotlib.pyplot as plt\n",
    "from marslab.imgops.imgutils import std_clip\n",
    "%matplotlib qt"
   ]
  },
  {
   "cell_type": "code",
   "execution_count": null,
   "id": "ba5007a0",
   "metadata": {},
   "outputs": [],
   "source": [
    "plt.figure()\n",
    "plt.imshow(np.abs(cntnew - cntold))\n",
    "plt.colorbar()"
   ]
  },
  {
   "cell_type": "code",
   "execution_count": null,
   "id": "29fccea6",
   "metadata": {},
   "outputs": [],
   "source": [
    "meta_column_df('/home/michael/Desktop/gphoton_working/test_data/e23456/e23456-nd-0.parquet').T"
   ]
  },
  {
   "cell_type": "code",
   "execution_count": null,
   "id": "c87115cf",
   "metadata": {},
   "outputs": [],
   "source": [
    "meta_column_df('/home/michael/Desktop/gphoton_working/test_data/e23456/e23456-nd.parquet').T"
   ]
  },
  {
   "cell_type": "code",
   "execution_count": null,
   "id": "625cdc35",
   "metadata": {},
   "outputs": [],
   "source": [
    "from pyarrow import parquet\n",
    "tab_new = parquet.read_table(\n",
    "    '/home/michael/Desktop/gphoton_working/test_data/e23456/e23456-nd-0.parquet'\n",
    ").to_pandas()"
   ]
  },
  {
   "cell_type": "code",
   "execution_count": null,
   "id": "13775789",
   "metadata": {},
   "outputs": [],
   "source": [
    "tab_old = parquet.read_table(\n",
    "    '/home/michael/Desktop/gphoton_working/test_data/e23456/e23456-nd-0 (copy).parquet'\n",
    ").to_pandas()"
   ]
  },
  {
   "cell_type": "code",
   "execution_count": null,
   "id": "5cbc3256",
   "metadata": {},
   "outputs": [],
   "source": [
    "plt.plot(tab_new['eta'] - tab_old['eta'])"
   ]
  },
  {
   "cell_type": "code",
   "execution_count": null,
   "id": "6754aa48",
   "metadata": {},
   "outputs": [],
   "source": [
    "(tab_new['eta'] - tab_old['eta']).argmax()"
   ]
  },
  {
   "cell_type": "code",
   "execution_count": null,
   "id": "dd162d96",
   "metadata": {},
   "outputs": [],
   "source": [
    "cut_new = tab_new.loc[34945920:34945925]"
   ]
  },
  {
   "cell_type": "code",
   "execution_count": null,
   "id": "99e000ee",
   "metadata": {},
   "outputs": [],
   "source": [
    "cut_old = tab_old.loc[34945920:34945925]"
   ]
  },
  {
   "cell_type": "code",
   "execution_count": null,
   "id": "9e522e8e",
   "metadata": {},
   "outputs": [],
   "source": [
    "\n",
    "cut_new"
   ]
  },
  {
   "cell_type": "code",
   "execution_count": null,
   "id": "68f3af8e",
   "metadata": {},
   "outputs": [],
   "source": [
    "cut_old.dtypes"
   ]
  },
  {
   "cell_type": "code",
   "execution_count": null,
   "id": "4ddbfcb5",
   "metadata": {},
   "outputs": [],
   "source": [
    "cut_new.loc[34945923]['t']"
   ]
  },
  {
   "cell_type": "code",
   "execution_count": null,
   "id": "35c8c4db",
   "metadata": {},
   "outputs": [],
   "source": [
    "cut_old.loc[34945923]['t']"
   ]
  },
  {
   "cell_type": "code",
   "execution_count": null,
   "id": "0472d4e9",
   "metadata": {},
   "outputs": [],
   "source": [
    "tab_new.loc[tab_new['flags'] == 12]"
   ]
  },
  {
   "cell_type": "code",
   "execution_count": null,
   "id": "79792b42",
   "metadata": {},
   "outputs": [],
   "source": [
    "tab_old.loc[tab_old['flags'] == 12]"
   ]
  },
  {
   "cell_type": "code",
   "execution_count": null,
   "id": "0b02f002",
   "metadata": {},
   "outputs": [],
   "source": [
    "cols = cut_new.dtypes.loc[cut_new.dtypes != bool]"
   ]
  },
  {
   "cell_type": "code",
   "execution_count": null,
   "id": "4bdf13fd",
   "metadata": {},
   "outputs": [],
   "source": [
    "diff = cut_old[cols.index] - cut_new[cols.index]"
   ]
  },
  {
   "cell_type": "code",
   "execution_count": null,
   "id": "433d780c",
   "metadata": {},
   "outputs": [],
   "source": [
    "import gPhoton.constants as c"
   ]
  },
  {
   "cell_type": "code",
   "execution_count": null,
   "id": "250e630a",
   "metadata": {},
   "outputs": [],
   "source": [
    "tab2.loc[(tab2['response'] - tab['response']).abs() > 0.1]"
   ]
  },
  {
   "cell_type": "code",
   "execution_count": null,
   "id": "cf20ec8c",
   "metadata": {},
   "outputs": [],
   "source": [
    "tab.loc[(tab2['ra'] - tab['ra']).abs() > 0.0001]"
   ]
  },
  {
   "cell_type": "code",
   "execution_count": null,
   "id": "1cef12e2",
   "metadata": {},
   "outputs": [],
   "source": [
    "(tab2['detrad'] - tab['detrad']).abs().argmax()"
   ]
  },
  {
   "cell_type": "code",
   "execution_count": null,
   "id": "8b33948d",
   "metadata": {},
   "outputs": [],
   "source": [
    "(tab_new[\"ya\"] - tab_old[\"ya\"]).abs().max()"
   ]
  },
  {
   "cell_type": "code",
   "execution_count": null,
   "id": "aa37d290",
   "metadata": {},
   "outputs": [],
   "source": [
    "import pandas as pd"
   ]
  },
  {
   "cell_type": "code",
   "execution_count": null,
   "id": "03b68a15",
   "metadata": {},
   "outputs": [],
   "source": [
    "t = pd.read_csv(\n",
    "    '/home/michael/Desktop/gphoton_working/test_data/e23456/e23456-nd-full-0-photom-12_8.csv'\n",
    ")"
   ]
  },
  {
   "cell_type": "code",
   "execution_count": null,
   "id": "2b04c647",
   "metadata": {},
   "outputs": [],
   "source": [
    "a = pd.read_csv(\n",
    "    '/home/michael/Desktop/gphoton_working/test_data/e23456/e23456-nd-full-photom-12_8.csv'\n",
    ")"
   ]
  },
  {
   "cell_type": "code",
   "execution_count": null,
   "id": "4f78a411",
   "metadata": {},
   "outputs": [],
   "source": [
    "def coregister_sources(xy0, xy1):\n",
    "    matches = []\n",
    "    for source_ix in range(xy0.shape[0]):\n",
    "        vec = xy0[source_ix]\n",
    "        vec = np.expand_dims(vec, 1).T\n",
    "        offsets = np.linalg.norm(xy1 - vec, axis=1)\n",
    "        matches.append(offsets.argmin())\n",
    "    sort_xy1 = xy1[matches]\n",
    "    return np.linalg.norm(sort_xy1 - xy0, axis=1)\n",
    "\n",
    "\n",
    "def check_coregistration(ref, comp, threshold=1):\n",
    "    c_cols = ['xcentroid', 'ycentroid']\n",
    "    ref_xy = ref[c_cols].to_numpy()\n",
    "    comp_xy = comp[c_cols].to_numpy()\n",
    "    ref_offsets = coregister_sources(ref_xy, comp_xy)\n",
    "    comp_offsets = coregister_sources(comp_xy, ref_xy)\n",
    "    return (\n",
    "        ref_offsets > threshold, comp_offsets > threshold\n",
    "    )"
   ]
  },
  {
   "cell_type": "code",
   "execution_count": null,
   "id": "de25bcd4",
   "metadata": {},
   "outputs": [],
   "source": []
  },
  {
   "cell_type": "code",
   "execution_count": null,
   "id": "93db6869",
   "metadata": {},
   "outputs": [],
   "source": [
    "from gPhoton.pipeline import execute_pipeline\n",
    "\n",
    "if __name__ == \"__main__\":\n",
    "    execute_pipeline(\n",
    "        23456,\n",
    "        \"NUV\",\n",
    "        depth=None,\n",
    "        threads=4,\n",
    "        local_root=\"test_data\",\n",
    "        recreate=True,\n",
    "        aperture_sizes=[12.8],\n",
    "        write={\"movie\": True, \"image\": True},\n",
    "        coregister_lightcurves=True,\n",
    "        # stop_after=\"moviemaker\",\n",
    "        compression=\"rice\",\n",
    "        lil=True\n",
    "    )\n"
   ]
  },
  {
   "cell_type": "code",
   "execution_count": null,
   "id": "7a16c5f4",
   "metadata": {},
   "outputs": [],
   "source": [
    "def coregister_sources_2(xy0, xy1):\n",
    "    matches = []\n",
    "    for source_ix in range(xy0.shape[0]):\n",
    "        vec = xy0[source_ix]\n",
    "        vec = np.expand_dims(vec, 1).T\n",
    "        offsets = np.linalg.norm(xy1 - vec, axis=1)\n",
    "        matches.append(offsets.argmin())\n",
    "    sort_xy1 = xy1[matches]\n",
    "    return matches, np.linalg.norm(sort_xy1 - xy0, axis=1)"
   ]
  },
  {
   "cell_type": "code",
   "execution_count": null,
   "id": "99cd744d",
   "metadata": {
    "scrolled": false
   },
   "outputs": [],
   "source": [
    "matches_t, offsets_t = coregister_sources_2(\n",
    "    a[['xcentroid', 'ycentroid']].to_numpy(), t[['xcentroid', 'ycentroid']].to_numpy()\n",
    ")\n",
    "matches_a, offsets_a = coregister_sources_2(\n",
    "    t[['xcentroid', 'ycentroid']].to_numpy(), a[['xcentroid', 'ycentroid']].to_numpy()\n",
    ")"
   ]
  },
  {
   "cell_type": "code",
   "execution_count": null,
   "id": "627e2865",
   "metadata": {},
   "outputs": [],
   "source": [
    "mismatch_t = np.nonzero(offsets_t > 0.5)[0]\n",
    "matchy_t = [m for ix, m in enumerate(matches_t) if ix not in mismatch_t]\n",
    "mismatch_a = np.nonzero(offsets_a > 0.5)[0]\n",
    "matchy_a = [m for ix, m in enumerate(matches_a) if ix not in mismatch_a]"
   ]
  },
  {
   "cell_type": "code",
   "execution_count": null,
   "id": "f0197db2",
   "metadata": {},
   "outputs": [],
   "source": [
    "a = a.drop(mismatch_t).loc[matchy_a].reset_index(drop=True)\n",
    "t = t.drop(mismatch_a).reset_index(drop=True)"
   ]
  },
  {
   "cell_type": "code",
   "execution_count": null,
   "id": "b9cd056d",
   "metadata": {},
   "outputs": [],
   "source": [
    "plt.plot(a['aperture_sum'] / t['aperture_sum'])"
   ]
  },
  {
   "cell_type": "code",
   "execution_count": null,
   "id": "c9d753ef",
   "metadata": {},
   "outputs": [],
   "source": [
    "plt.plot(a['ycentroid'] - t['ycentroid'])"
   ]
  },
  {
   "cell_type": "code",
   "execution_count": null,
   "id": "5f68a4c0",
   "metadata": {},
   "outputs": [],
   "source": [
    "t.loc[np.isinf(t['aperture_sum'])]"
   ]
  }
 ],
 "metadata": {
  "kernelspec": {
   "display_name": "Python 3 (ipykernel)",
   "language": "python",
   "name": "python3"
  },
  "language_info": {
   "codemirror_mode": {
    "name": "ipython",
    "version": 3
   },
   "file_extension": ".py",
   "mimetype": "text/x-python",
   "name": "python",
   "nbconvert_exporter": "python",
   "pygments_lexer": "ipython3",
   "version": "3.9.16"
  }
 },
 "nbformat": 4,
 "nbformat_minor": 5
}
